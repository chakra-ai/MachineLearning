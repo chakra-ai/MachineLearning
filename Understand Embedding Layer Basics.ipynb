{
  "nbformat": 4,
  "nbformat_minor": 0,
  "metadata": {
    "colab": {
      "name": "Understand Embedding Layer Basics.ipynb",
      "provenance": [],
      "collapsed_sections": [],
      "authorship_tag": "ABX9TyO9Hb1y3Ed8MjDBgOtdL3Ew",
      "include_colab_link": true
    },
    "kernelspec": {
      "name": "python3",
      "display_name": "Python 3"
    }
  },
  "cells": [
    {
      "cell_type": "markdown",
      "metadata": {
        "id": "view-in-github",
        "colab_type": "text"
      },
      "source": [
        "<a href=\"https://colab.research.google.com/github/chakra-ai/MachineLearning/blob/master/Understand%20Embedding%20Layer%20Basics.ipynb\" target=\"_parent\"><img src=\"https://colab.research.google.com/assets/colab-badge.svg\" alt=\"Open In Colab\"/></a>"
      ]
    },
    {
      "cell_type": "markdown",
      "metadata": {
        "id": "6jZ1u1Ki4dCe",
        "colab_type": "text"
      },
      "source": [
        "## **Simple Embedding Layer**"
      ]
    },
    {
      "cell_type": "code",
      "metadata": {
        "id": "bx4WP0nZhEaH",
        "colab_type": "code",
        "colab": {}
      },
      "source": [
        "from tensorflow.keras.models import Sequential\n",
        "from tensorflow.keras.layers import Embedding\n",
        "import numpy as np\n",
        "\n",
        "model = Sequential()\n",
        "embedding_layer = Embedding(input_dim = 10, output_dim = 4, input_length = 2)\n",
        "model.add(embedding_layer)\n",
        "model.compile('adam', 'mse')"
      ],
      "execution_count": 4,
      "outputs": []
    },
    {
      "cell_type": "code",
      "metadata": {
        "id": "_PaovSYSlhwg",
        "colab_type": "code",
        "colab": {
          "base_uri": "https://localhost:8080/",
          "height": 187
        },
        "outputId": "4039002c-4213-491b-e7c0-f37ca1e153ec"
      },
      "source": [
        "model.summary()"
      ],
      "execution_count": 5,
      "outputs": [
        {
          "output_type": "stream",
          "text": [
            "Model: \"sequential_1\"\n",
            "_________________________________________________________________\n",
            "Layer (type)                 Output Shape              Param #   \n",
            "=================================================================\n",
            "embedding_1 (Embedding)      (None, 2, 4)              40        \n",
            "=================================================================\n",
            "Total params: 40\n",
            "Trainable params: 40\n",
            "Non-trainable params: 0\n",
            "_________________________________________________________________\n"
          ],
          "name": "stdout"
        }
      ]
    },
    {
      "cell_type": "code",
      "metadata": {
        "id": "ID7mm3hlq2CX",
        "colab_type": "code",
        "colab": {
          "base_uri": "https://localhost:8080/",
          "height": 68
        },
        "outputId": "85032a85-c5c6-44a8-c8e7-a9d8eb92c9a8"
      },
      "source": [
        "input_data = np.array([[1, 2]])\n",
        "\n",
        "pred = model.predict(input_data)\n",
        "\n",
        "print(input_data.shape)\n",
        "print(pred)"
      ],
      "execution_count": 6,
      "outputs": [
        {
          "output_type": "stream",
          "text": [
            "(1, 2)\n",
            "[[[ 0.00907419  0.02009683 -0.00283406  0.04077572]\n",
            "  [ 0.01126075  0.02615981 -0.02553423  0.03626943]]]\n"
          ],
          "name": "stdout"
        }
      ]
    },
    {
      "cell_type": "code",
      "metadata": {
        "id": "Dt9sbWyxq-r2",
        "colab_type": "code",
        "colab": {
          "base_uri": "https://localhost:8080/",
          "height": 204
        },
        "outputId": "71c78542-032f-47ee-e16a-545ac6f22729"
      },
      "source": [
        "embedding_layer.get_weights()"
      ],
      "execution_count": 7,
      "outputs": [
        {
          "output_type": "execute_result",
          "data": {
            "text/plain": [
              "[array([[-0.01761629,  0.03047058, -0.02592208,  0.01876097],\n",
              "        [ 0.00907419,  0.02009683, -0.00283406,  0.04077572],\n",
              "        [ 0.01126075,  0.02615981, -0.02553423,  0.03626943],\n",
              "        [ 0.01837964,  0.00644028, -0.02231342, -0.01756768],\n",
              "        [-0.0239487 ,  0.02368267,  0.045244  ,  0.01817617],\n",
              "        [-0.02997978,  0.01632948,  0.01051276, -0.03198048],\n",
              "        [-0.0395137 ,  0.04707033,  0.03362216,  0.04021219],\n",
              "        [ 0.03073083,  0.04744485,  0.02653474, -0.00671577],\n",
              "        [-0.04955727, -0.00577788,  0.01709953, -0.02614887],\n",
              "        [-0.01150929, -0.02221642, -0.00182124,  0.01525897]],\n",
              "       dtype=float32)]"
            ]
          },
          "metadata": {
            "tags": []
          },
          "execution_count": 7
        }
      ]
    },
    {
      "cell_type": "markdown",
      "metadata": {
        "id": "HfW5RheU_wvF",
        "colab_type": "text"
      },
      "source": [
        "# **Transferring an Embedding**"
      ]
    },
    {
      "cell_type": "code",
      "metadata": {
        "id": "l7BTYs90wFVb",
        "colab_type": "code",
        "colab": {}
      },
      "source": [
        "from tensorflow.keras.models import Sequential\n",
        "from tensorflow.keras.layers import Embedding\n",
        "import numpy as np\n",
        "\n",
        "embedding_lookup = np.array([\n",
        "                             [1, 0, 0],\n",
        "                             [0, 1, 0],\n",
        "                             [0, 0, 1]\n",
        "])"
      ],
      "execution_count": 8,
      "outputs": []
    },
    {
      "cell_type": "code",
      "metadata": {
        "id": "aPHyfQAy-k6Z",
        "colab_type": "code",
        "colab": {}
      },
      "source": [
        "model = Sequential()\n",
        "embedding_layer = Embedding(input_dim=3, output_dim=3, input_length=2)\n",
        "model.add(embedding_layer)\n",
        "model.compile('adam', 'mse')"
      ],
      "execution_count": 9,
      "outputs": []
    },
    {
      "cell_type": "code",
      "metadata": {
        "id": "K1NMLpSLwFSE",
        "colab_type": "code",
        "colab": {}
      },
      "source": [
        "embedding_layer.set_weights([embedding_lookup])"
      ],
      "execution_count": 10,
      "outputs": []
    },
    {
      "cell_type": "code",
      "metadata": {
        "id": "NXaiukABrLBU",
        "colab_type": "code",
        "colab": {
          "base_uri": "https://localhost:8080/",
          "height": 68
        },
        "outputId": "91a7063c-98b3-42ed-c31e-9ca5fe3a9c61"
      },
      "source": [
        "input_data = np.array([[1, 2]])\n",
        "\n",
        "pred = model.predict(input_data)\n",
        "\n",
        "print(input_data.shape)\n",
        "print(pred)"
      ],
      "execution_count": 11,
      "outputs": [
        {
          "output_type": "stream",
          "text": [
            "(1, 2)\n",
            "[[[0. 1. 0.]\n",
            "  [0. 0. 1.]]]\n"
          ],
          "name": "stdout"
        }
      ]
    },
    {
      "cell_type": "markdown",
      "metadata": {
        "id": "Z3ENOgdXBZSC",
        "colab_type": "text"
      },
      "source": [
        "# **Training an Embedding**"
      ]
    },
    {
      "cell_type": "code",
      "metadata": {
        "id": "v4Ow81GrBWtM",
        "colab_type": "code",
        "colab": {}
      },
      "source": [
        "from numpy import array\n",
        "from tensorflow.keras.preprocessing.text import one_hot\n",
        "from tensorflow.keras.preprocessing.sequence import pad_sequences\n",
        "from tensorflow.keras.models import Sequential\n",
        "from tensorflow.keras.layers import Embedding, Dense, Flatten"
      ],
      "execution_count": 12,
      "outputs": []
    },
    {
      "cell_type": "code",
      "metadata": {
        "id": "BHZk9FFusNrF",
        "colab_type": "code",
        "colab": {}
      },
      "source": [
        "# Define 10 resturant reviews.\n",
        "reviews = [\n",
        "    'Never coming back!',\n",
        "    'Horrible service',\n",
        "    'Rude waitress',\n",
        "    'Cold food.',\n",
        "    'Horrible food!',\n",
        "    'Awesome',\n",
        "    'Awesome service!',\n",
        "    'Rocks!',\n",
        "    'poor work',\n",
        "    'Couldn\\'t have done better']\n",
        "\n",
        "# Define labels (1=negative, 0=positive)\n",
        "labels = array([1,1,1,1,1,0,0,0,0,0])"
      ],
      "execution_count": 13,
      "outputs": []
    },
    {
      "cell_type": "code",
      "metadata": {
        "id": "NNVFQMLdCXZj",
        "colab_type": "code",
        "colab": {
          "base_uri": "https://localhost:8080/",
          "height": 34
        },
        "outputId": "9da1609e-3a55-481e-e0b9-e7ae87badb21"
      },
      "source": [
        "VOCAB_SIZE = 50\n",
        "encoded_reviews = [one_hot(d, VOCAB_SIZE) for d in reviews]\n",
        "print(f\"Encoded reviews: {encoded_reviews}\")"
      ],
      "execution_count": 15,
      "outputs": [
        {
          "output_type": "stream",
          "text": [
            "Encoded reviews: [[35, 47, 11], [36, 30], [4, 34], [5, 36], [36, 36], [17], [17, 30], [21], [28, 18], [19, 32, 22, 34]]\n"
          ],
          "name": "stdout"
        }
      ]
    },
    {
      "cell_type": "code",
      "metadata": {
        "id": "XAzYJCLODC76",
        "colab_type": "code",
        "colab": {
          "base_uri": "https://localhost:8080/",
          "height": 187
        },
        "outputId": "41db9b31-42d2-4fe0-e80d-f71569040039"
      },
      "source": [
        "MAX_LENGTH = 4\n",
        "padded_reviews = pad_sequences(encoded_reviews, maxlen=MAX_LENGTH, padding='post')\n",
        "print(padded_reviews)"
      ],
      "execution_count": 16,
      "outputs": [
        {
          "output_type": "stream",
          "text": [
            "[[35 47 11  0]\n",
            " [36 30  0  0]\n",
            " [ 4 34  0  0]\n",
            " [ 5 36  0  0]\n",
            " [36 36  0  0]\n",
            " [17  0  0  0]\n",
            " [17 30  0  0]\n",
            " [21  0  0  0]\n",
            " [28 18  0  0]\n",
            " [19 32 22 34]]\n"
          ],
          "name": "stdout"
        }
      ]
    },
    {
      "cell_type": "code",
      "metadata": {
        "id": "O0cRpkcADi7L",
        "colab_type": "code",
        "colab": {
          "base_uri": "https://localhost:8080/",
          "height": 272
        },
        "outputId": "8befe283-050b-4279-c9ed-76dddaa5279a"
      },
      "source": [
        "model = Sequential()\n",
        "embedding_layer = Embedding(input_dim=VOCAB_SIZE, output_dim=8, input_length=MAX_LENGTH)\n",
        "model.add(embedding_layer)\n",
        "model.add(Flatten())\n",
        "model.add(Dense(1, activation='sigmoid'))\n",
        "model.compile('adam', 'binary_crossentropy', metrics=['accuracy'])\n",
        "\n",
        "print(model.summary())"
      ],
      "execution_count": 17,
      "outputs": [
        {
          "output_type": "stream",
          "text": [
            "Model: \"sequential_3\"\n",
            "_________________________________________________________________\n",
            "Layer (type)                 Output Shape              Param #   \n",
            "=================================================================\n",
            "embedding_3 (Embedding)      (None, 4, 8)              400       \n",
            "_________________________________________________________________\n",
            "flatten (Flatten)            (None, 32)                0         \n",
            "_________________________________________________________________\n",
            "dense (Dense)                (None, 1)                 33        \n",
            "=================================================================\n",
            "Total params: 433\n",
            "Trainable params: 433\n",
            "Non-trainable params: 0\n",
            "_________________________________________________________________\n",
            "None\n"
          ],
          "name": "stdout"
        }
      ]
    },
    {
      "cell_type": "code",
      "metadata": {
        "id": "IcTQyRnFEj5V",
        "colab_type": "code",
        "colab": {
          "base_uri": "https://localhost:8080/",
          "height": 34
        },
        "outputId": "75c1f1d7-5dc1-4fce-c5a7-168da8db97a0"
      },
      "source": [
        "model.fit(padded_reviews, labels, epochs=100, verbose=0)"
      ],
      "execution_count": 18,
      "outputs": [
        {
          "output_type": "execute_result",
          "data": {
            "text/plain": [
              "<tensorflow.python.keras.callbacks.History at 0x7f242c2f77f0>"
            ]
          },
          "metadata": {
            "tags": []
          },
          "execution_count": 18
        }
      ]
    },
    {
      "cell_type": "code",
      "metadata": {
        "id": "1J8HzS6PE7Mh",
        "colab_type": "code",
        "colab": {
          "base_uri": "https://localhost:8080/",
          "height": 1000
        },
        "outputId": "351c3a6a-50b6-4163-c428-1a0ef8552a30"
      },
      "source": [
        "print(embedding_layer.get_weights()[0].shape)\n",
        "print(embedding_layer.get_weights())"
      ],
      "execution_count": 19,
      "outputs": [
        {
          "output_type": "stream",
          "text": [
            "(50, 8)\n",
            "[array([[ 0.08055642, -0.08969885,  0.12991388,  0.12073484, -0.07991857,\n",
            "         0.12555344,  0.12746507,  0.12557457],\n",
            "       [ 0.01173251, -0.03532294, -0.0044133 , -0.01035376,  0.01908964,\n",
            "        -0.04579556,  0.03454443, -0.03335215],\n",
            "       [-0.04887019,  0.03893859,  0.00921243, -0.03362089,  0.02507696,\n",
            "         0.01427547,  0.03867687,  0.01796378],\n",
            "       [ 0.04673282,  0.03841129,  0.0160907 ,  0.02111221, -0.01635114,\n",
            "        -0.04915524, -0.02580346, -0.03258663],\n",
            "       [ 0.07879266, -0.06277201,  0.14431323, -0.12032352,  0.10022847,\n",
            "         0.08992141, -0.1454556 ,  0.0620799 ],\n",
            "       [ 0.05611022, -0.06344204,  0.13829409, -0.1447166 ,  0.11079322,\n",
            "         0.11575363, -0.14008811,  0.14476247],\n",
            "       [-0.00415616, -0.00128738,  0.01456714,  0.00552426, -0.02739756,\n",
            "        -0.02256349, -0.00090381,  0.00555589],\n",
            "       [-0.03506817, -0.02954885, -0.0222927 ,  0.03952599, -0.00521783,\n",
            "         0.02906838,  0.01793586,  0.04220862],\n",
            "       [-0.00355884, -0.04398802, -0.04199212,  0.00989947,  0.04397536,\n",
            "         0.01714451,  0.01582707, -0.02677493],\n",
            "       [ 0.02880343, -0.03783683, -0.00955038,  0.00973986, -0.02670755,\n",
            "         0.01665312, -0.02089626,  0.02287883],\n",
            "       [ 0.00746552, -0.04160989,  0.04010895, -0.0148862 ,  0.00662958,\n",
            "         0.00497656, -0.04374913, -0.00378866],\n",
            "       [-0.13324855,  0.12009619,  0.08681992, -0.06783056, -0.09076352,\n",
            "        -0.07142909, -0.0453022 ,  0.1527606 ],\n",
            "       [-0.04591862, -0.03201697, -0.02315433,  0.02875436,  0.01063306,\n",
            "        -0.04222881,  0.04606651, -0.03306986],\n",
            "       [-0.01909629,  0.03065402, -0.04165745, -0.02872679, -0.00661568,\n",
            "         0.00220571,  0.01192403,  0.03803272],\n",
            "       [-0.00171866, -0.00108143, -0.03094407, -0.03689953,  0.02342596,\n",
            "        -0.01334038, -0.04698856, -0.01146809],\n",
            "       [-0.00923252, -0.00493503, -0.0401203 ,  0.00753949,  0.00903957,\n",
            "         0.02084049, -0.00264307, -0.00696838],\n",
            "       [-0.04181187,  0.04014746,  0.03133622, -0.03793973,  0.03553153,\n",
            "        -0.00466771, -0.04363525, -0.01020461],\n",
            "       [-0.06823592,  0.05285313, -0.06407139,  0.14936207, -0.15413807,\n",
            "        -0.12956768,  0.05477819, -0.08408557],\n",
            "       [ 0.13374412, -0.1176782 ,  0.05780261, -0.01869854, -0.10840391,\n",
            "         0.15031767,  0.1508671 ,  0.10222138],\n",
            "       [-0.14894512,  0.04653431, -0.06982256,  0.09512737, -0.11391708,\n",
            "        -0.04675868,  0.12063786, -0.06668877],\n",
            "       [-0.04394101,  0.0218553 , -0.03560494, -0.01998203,  0.02595926,\n",
            "        -0.00229353,  0.02475006,  0.02652103],\n",
            "       [-0.07165394,  0.1429697 , -0.11918756,  0.11488567, -0.16951658,\n",
            "        -0.13921049,  0.05802871, -0.07877912],\n",
            "       [ 0.14396513, -0.08316819, -0.07707356,  0.12834598,  0.13129058,\n",
            "         0.10418092,  0.09513217, -0.09815651],\n",
            "       [-0.03332831, -0.03624941, -0.01711665, -0.00174838, -0.04997645,\n",
            "         0.04993627, -0.01482401, -0.02729625],\n",
            "       [-0.04378824,  0.02376645,  0.03393953, -0.03538018, -0.03860706,\n",
            "        -0.04877348, -0.00987408, -0.04177331],\n",
            "       [ 0.02272836,  0.00323164, -0.00086831, -0.02951556, -0.00386848,\n",
            "        -0.00067524, -0.039166  , -0.03168212],\n",
            "       [ 0.04110685,  0.04895034,  0.01617992,  0.01173859,  0.01182771,\n",
            "        -0.01718168, -0.04049351, -0.0239503 ],\n",
            "       [ 0.04159075,  0.02511786, -0.02067544, -0.01742972, -0.02560518,\n",
            "         0.04986942,  0.00538854, -0.01805254],\n",
            "       [-0.15008359,  0.05259661, -0.08372121,  0.13871337, -0.18356006,\n",
            "        -0.05389578,  0.06997526, -0.05853453],\n",
            "       [ 0.03149493,  0.04537908, -0.01891732, -0.04603493, -0.03415749,\n",
            "        -0.04203044, -0.03585579,  0.00321194],\n",
            "       [ 0.05027355, -0.07285995,  0.03574095, -0.04861509,  0.00209617,\n",
            "        -0.01040986,  0.05523836,  0.06718151],\n",
            "       [ 0.01063929,  0.03094486, -0.00648811, -0.01543627,  0.00505392,\n",
            "         0.04338408,  0.00964374, -0.04052682],\n",
            "       [ 0.07968707, -0.09830933,  0.1012    , -0.07449186, -0.0880485 ,\n",
            "         0.08775195,  0.07453373,  0.09821812],\n",
            "       [ 0.03058452, -0.04361414, -0.04361345,  0.02936072,  0.0444986 ,\n",
            "        -0.0325167 ,  0.03808333,  0.04168293],\n",
            "       [-0.15004392,  0.11056545, -0.06756006, -0.11526703, -0.08110882,\n",
            "        -0.09230687, -0.06931958, -0.09542702],\n",
            "       [ 0.11086932, -0.14010389,  0.15120684, -0.06757397,  0.14974616,\n",
            "         0.0576811 , -0.06071656,  0.10961753],\n",
            "       [ 0.09979256, -0.08878838, -0.14892876, -0.15572836,  0.13049303,\n",
            "         0.07415685, -0.06060299,  0.10131924],\n",
            "       [-0.04388777, -0.02979972,  0.00953617, -0.0035969 ,  0.02422592,\n",
            "         0.02984333,  0.02737855,  0.04852483],\n",
            "       [ 0.0077257 , -0.03605058, -0.00368734,  0.01231368, -0.01763289,\n",
            "        -0.03225758,  0.04104945,  0.03721147],\n",
            "       [-0.00870764, -0.04141935, -0.02212207, -0.04876567,  0.02375266,\n",
            "         0.00097861,  0.04242833,  0.03183224],\n",
            "       [-0.04779691, -0.00733864,  0.03575759,  0.04899446,  0.03104473,\n",
            "         0.00968152,  0.02195892, -0.00748677],\n",
            "       [-0.02948643, -0.00223683, -0.0273857 ,  0.00530658,  0.02243072,\n",
            "        -0.00741416, -0.01092489,  0.01567281],\n",
            "       [ 0.04330574, -0.04713938, -0.04768605,  0.02220631,  0.04489117,\n",
            "         0.03850392, -0.01666882, -0.02188313],\n",
            "       [-0.04595282,  0.00107154, -0.00980742, -0.02934682,  0.00965557,\n",
            "        -0.01139712,  0.01049991,  0.0133144 ],\n",
            "       [ 0.03540606,  0.00583453, -0.04141096,  0.00792585, -0.00385934,\n",
            "         0.02515842,  0.03862773,  0.00177554],\n",
            "       [ 0.03055734,  0.02838414, -0.02156879, -0.00443627,  0.04913702,\n",
            "        -0.039579  , -0.0194923 , -0.02482957],\n",
            "       [-0.03736396,  0.01752049, -0.02098204, -0.02469796,  0.02404631,\n",
            "        -0.01460403,  0.04182369,  0.04775032],\n",
            "       [-0.08261155,  0.1549719 , -0.14468046,  0.00194535,  0.08454887,\n",
            "        -0.08280236, -0.078824  , -0.1289926 ],\n",
            "       [ 0.00882784, -0.01983588,  0.01516993, -0.01353929, -0.03703462,\n",
            "         0.04189943, -0.04056134, -0.03642147],\n",
            "       [ 0.00599531,  0.00147101,  0.00274809,  0.01250524, -0.03245326,\n",
            "         0.04487124,  0.04011806,  0.02502619]], dtype=float32)]\n"
          ],
          "name": "stdout"
        }
      ]
    },
    {
      "cell_type": "code",
      "metadata": {
        "id": "LcFHBrqvFPl1",
        "colab_type": "code",
        "colab": {
          "base_uri": "https://localhost:8080/",
          "height": 34
        },
        "outputId": "091cfa31-3960-4bea-9b62-8244501d60d6"
      },
      "source": [
        "loss, accuracy = model.evaluate(padded_reviews, labels, verbose=0)\n",
        "print(f'Accuracy : {accuracy}')"
      ],
      "execution_count": 20,
      "outputs": [
        {
          "output_type": "stream",
          "text": [
            "Accuracy : 1.0\n"
          ],
          "name": "stdout"
        }
      ]
    },
    {
      "cell_type": "code",
      "metadata": {
        "id": "JNIN8VJWFl_9",
        "colab_type": "code",
        "colab": {}
      },
      "source": [
        ""
      ],
      "execution_count": null,
      "outputs": []
    }
  ]
}