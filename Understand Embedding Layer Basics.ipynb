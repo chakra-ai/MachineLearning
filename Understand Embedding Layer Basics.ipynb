{
  "nbformat": 4,
  "nbformat_minor": 0,
  "metadata": {
    "colab": {
      "name": "Understand Embedding Layer Basics.ipynb",
      "provenance": [],
      "collapsed_sections": [],
      "authorship_tag": "ABX9TyNuMs1+mEmCA6Iqg57Stfhp",
      "include_colab_link": true
    },
    "kernelspec": {
      "name": "python3",
      "display_name": "Python 3"
    }
  },
  "cells": [
    {
      "cell_type": "markdown",
      "metadata": {
        "id": "view-in-github",
        "colab_type": "text"
      },
      "source": [
        "<a href=\"https://colab.research.google.com/github/chakra-ai/MachineLearning/blob/master/Understand%20Embedding%20Layer%20Basics.ipynb\" target=\"_parent\"><img src=\"https://colab.research.google.com/assets/colab-badge.svg\" alt=\"Open In Colab\"/></a>"
      ]
    },
    {
      "cell_type": "markdown",
      "metadata": {
        "id": "6jZ1u1Ki4dCe",
        "colab_type": "text"
      },
      "source": [
        "## Simple Embedding Layer"
      ]
    },
    {
      "cell_type": "code",
      "metadata": {
        "id": "bx4WP0nZhEaH",
        "colab_type": "code",
        "colab": {}
      },
      "source": [
        "from tensorflow.keras.models import Sequential\n",
        "from tensorflow.keras.layers import Embedding\n",
        "import numpy as np\n",
        "\n",
        "model = Sequential()\n",
        "embedding_layer = Embedding(input_dim = 10, output_dim = 4, input_length = 2)\n",
        "model.add(embedding_layer)\n",
        "model.compile('adam', 'mse')"
      ],
      "execution_count": 4,
      "outputs": []
    },
    {
      "cell_type": "code",
      "metadata": {
        "id": "_PaovSYSlhwg",
        "colab_type": "code",
        "colab": {
          "base_uri": "https://localhost:8080/",
          "height": 187
        },
        "outputId": "4039002c-4213-491b-e7c0-f37ca1e153ec"
      },
      "source": [
        "model.summary()"
      ],
      "execution_count": 5,
      "outputs": [
        {
          "output_type": "stream",
          "text": [
            "Model: \"sequential_1\"\n",
            "_________________________________________________________________\n",
            "Layer (type)                 Output Shape              Param #   \n",
            "=================================================================\n",
            "embedding_1 (Embedding)      (None, 2, 4)              40        \n",
            "=================================================================\n",
            "Total params: 40\n",
            "Trainable params: 40\n",
            "Non-trainable params: 0\n",
            "_________________________________________________________________\n"
          ],
          "name": "stdout"
        }
      ]
    },
    {
      "cell_type": "code",
      "metadata": {
        "id": "ID7mm3hlq2CX",
        "colab_type": "code",
        "colab": {
          "base_uri": "https://localhost:8080/",
          "height": 68
        },
        "outputId": "85032a85-c5c6-44a8-c8e7-a9d8eb92c9a8"
      },
      "source": [
        "input_data = np.array([[1, 2]])\n",
        "\n",
        "pred = model.predict(input_data)\n",
        "\n",
        "print(input_data.shape)\n",
        "print(pred)"
      ],
      "execution_count": 6,
      "outputs": [
        {
          "output_type": "stream",
          "text": [
            "(1, 2)\n",
            "[[[ 0.00907419  0.02009683 -0.00283406  0.04077572]\n",
            "  [ 0.01126075  0.02615981 -0.02553423  0.03626943]]]\n"
          ],
          "name": "stdout"
        }
      ]
    },
    {
      "cell_type": "code",
      "metadata": {
        "id": "Dt9sbWyxq-r2",
        "colab_type": "code",
        "colab": {
          "base_uri": "https://localhost:8080/",
          "height": 204
        },
        "outputId": "71c78542-032f-47ee-e16a-545ac6f22729"
      },
      "source": [
        "embedding_layer.get_weights()"
      ],
      "execution_count": 7,
      "outputs": [
        {
          "output_type": "execute_result",
          "data": {
            "text/plain": [
              "[array([[-0.01761629,  0.03047058, -0.02592208,  0.01876097],\n",
              "        [ 0.00907419,  0.02009683, -0.00283406,  0.04077572],\n",
              "        [ 0.01126075,  0.02615981, -0.02553423,  0.03626943],\n",
              "        [ 0.01837964,  0.00644028, -0.02231342, -0.01756768],\n",
              "        [-0.0239487 ,  0.02368267,  0.045244  ,  0.01817617],\n",
              "        [-0.02997978,  0.01632948,  0.01051276, -0.03198048],\n",
              "        [-0.0395137 ,  0.04707033,  0.03362216,  0.04021219],\n",
              "        [ 0.03073083,  0.04744485,  0.02653474, -0.00671577],\n",
              "        [-0.04955727, -0.00577788,  0.01709953, -0.02614887],\n",
              "        [-0.01150929, -0.02221642, -0.00182124,  0.01525897]],\n",
              "       dtype=float32)]"
            ]
          },
          "metadata": {
            "tags": []
          },
          "execution_count": 7
        }
      ]
    },
    {
      "cell_type": "code",
      "metadata": {
        "id": "l7BTYs90wFVb",
        "colab_type": "code",
        "colab": {}
      },
      "source": [
        "!wget -q https://www-us.apache.org/dist/spark/spark-2.4.1/spark-2.4.1-bin-hadoop2.7.tgz\n",
        "!tar xf spark-2.4.1-bin-hadoop2.7.tgz"
      ],
      "execution_count": null,
      "outputs": []
    },
    {
      "cell_type": "code",
      "metadata": {
        "id": "aPHyfQAy-k6Z",
        "colab_type": "code",
        "colab": {}
      },
      "source": [
        ""
      ],
      "execution_count": null,
      "outputs": []
    },
    {
      "cell_type": "code",
      "metadata": {
        "id": "K1NMLpSLwFSE",
        "colab_type": "code",
        "colab": {}
      },
      "source": [
        ""
      ],
      "execution_count": null,
      "outputs": []
    },
    {
      "cell_type": "code",
      "metadata": {
        "id": "NXaiukABrLBU",
        "colab_type": "code",
        "colab": {}
      },
      "source": [
        "import os\n",
        "os.environ[\"JAVA_HOME\"] = \"/usr/lib/jvm/java-8-openjdk-amd64\"\n",
        "os.environ[\"SPARK_HOME\"] = \"/content/spark-2.3.2-bin-hadoop2.7\""
      ],
      "execution_count": 15,
      "outputs": []
    },
    {
      "cell_type": "code",
      "metadata": {
        "id": "BHZk9FFusNrF",
        "colab_type": "code",
        "colab": {}
      },
      "source": [
        "import os\n",
        "os.environ[\"JAVA_HOME\"] = \"/usr/lib/jvm/java-8-openjdk-amd64\"\n",
        "os.environ[\"SPARK_HOME\"] = \"/content/spark-2.3.2-bin-hadoop2.7\""
      ],
      "execution_count": null,
      "outputs": []
    }
  ]
}